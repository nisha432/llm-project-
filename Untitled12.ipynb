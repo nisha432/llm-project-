{
  "nbformat": 4,
  "nbformat_minor": 0,
  "metadata": {
    "colab": {
      "provenance": [],
      "authorship_tag": "ABX9TyOz99CO9/Zn9VqkW0u7+PQB",
      "include_colab_link": true
    },
    "kernelspec": {
      "name": "python3",
      "display_name": "Python 3"
    },
    "language_info": {
      "name": "python"
    }
  },
  "cells": [
    {
      "cell_type": "markdown",
      "metadata": {
        "id": "view-in-github",
        "colab_type": "text"
      },
      "source": [
        "<a href=\"https://colab.research.google.com/github/nisha432/llm-project-/blob/main/Untitled12.ipynb\" target=\"_parent\"><img src=\"https://colab.research.google.com/assets/colab-badge.svg\" alt=\"Open In Colab\"/></a>"
      ]
    },
    {
      "cell_type": "code",
      "source": [
        "import streamlit as st\n",
        "from langchain.schema import HumanMessage, SystemMessage, AIMessage\n",
        "from langchain.chat_models import ChatOpenAI\n",
        "from dotenv import load_dotenv\n",
        "import os\n",
        "\n",
        "# Load environment variables\n",
        "load_dotenv()\n",
        "\n",
        "# Get the OpenAI API key from environment variables or user input\n",
        "# If the key is not found in environment variables, ask the user to input it\n",
        "openai_api_key = os.getenv(\"OPENAI_API_KEY\")\n",
        "if not openai_api_key:\n",
        "    openai_api_key = st.text_input(\"Enter your OpenAI API Key:\", type=\"password\")\n",
        "\n",
        "# Streamlit UI setup\n",
        "st.set_page_config(page_title=\"Conversational Q&A Chatbot\")\n",
        "st.header(\"Hey, Let's Chat\")\n",
        "\n",
        "# Initialize the OpenAI chat model only after the API key is provided\n",
        "# Check if openai_api_key is not empty before initializing the chat model\n",
        "if openai_api_key:\n",
        "    chat = ChatOpenAI(temperature=0.5, openai_api_key=openai_api_key)\n",
        "\n",
        "    # Initialize conversation history in session state\n",
        "    if 'flowmessages' not in st.session_state:\n",
        "        st.session_state['flowmessages'] = [\n",
        "            SystemMessage(content=\"You are a comedian AI assistant\")\n",
        "        ]\n",
        "\n",
        "# Function to load OpenAI model and get responses\n",
        "# Ensure the chat model is initialized before using it\n",
        "def get_chatmodel_response(question):\n",
        "    if 'chat' in locals() and chat: # Check if chat model is initialized\n",
        "        # Append user question to the conversation flow\n",
        "        st.session_state['flowmessages'].append(HumanMessage(content=question))\n",
        "        # Generate a response\n",
        "        answer = chat(st.session_state['flowmessages'])\n",
        "        # Append AI response to the conversation flow\n",
        "        st.session_state['flowmessages'].append(AIMessage(content=answer.content))\n",
        "        return answer.content\n",
        "    else:\n",
        "        return \"Please provide your OpenAI API key first.\" # Handle case when chat model is not initialized\n",
        "\n",
        "# Create an input box for the user's question\n",
        "user_input = st.text_input(\"Input your question:\", key=\"input\")\n",
        "\n",
        "# Display response when the button is clicked\n",
        "if st.button(\"Ask the question\"):\n",
        "    if user_input:\n",
        "        response = get_chatmodel_response(user_input)\n",
        "        st.subheader(\"The Response is:\")\n",
        "        st.write(response)\n",
        "    else:\n",
        "        st.warning(\"Please enter a question to ask the chatbot.\")"
      ],
      "metadata": {
        "colab": {
          "base_uri": "https://localhost:8080/"
        },
        "id": "nABNuT-M7HCE",
        "outputId": "eb61e18e-d1f5-482b-89e2-4c605bbe8f1a"
      },
      "execution_count": 5,
      "outputs": [
        {
          "output_type": "stream",
          "name": "stderr",
          "text": [
            "2024-10-30 14:55:16.052 Thread 'MainThread': missing ScriptRunContext! This warning can be ignored when running in bare mode.\n",
            "2024-10-30 14:55:16.054 Thread 'MainThread': missing ScriptRunContext! This warning can be ignored when running in bare mode.\n",
            "2024-10-30 14:55:16.056 Thread 'MainThread': missing ScriptRunContext! This warning can be ignored when running in bare mode.\n",
            "2024-10-30 14:55:16.058 Thread 'MainThread': missing ScriptRunContext! This warning can be ignored when running in bare mode.\n",
            "2024-10-30 14:55:16.062 Thread 'MainThread': missing ScriptRunContext! This warning can be ignored when running in bare mode.\n",
            "2024-10-30 14:55:16.064 Thread 'MainThread': missing ScriptRunContext! This warning can be ignored when running in bare mode.\n",
            "2024-10-30 14:55:16.066 Thread 'MainThread': missing ScriptRunContext! This warning can be ignored when running in bare mode.\n",
            "2024-10-30 14:55:16.067 Thread 'MainThread': missing ScriptRunContext! This warning can be ignored when running in bare mode.\n",
            "2024-10-30 14:55:16.068 Thread 'MainThread': missing ScriptRunContext! This warning can be ignored when running in bare mode.\n",
            "2024-10-30 14:55:16.070 Thread 'MainThread': missing ScriptRunContext! This warning can be ignored when running in bare mode.\n",
            "2024-10-30 14:55:16.075 Thread 'MainThread': missing ScriptRunContext! This warning can be ignored when running in bare mode.\n",
            "2024-10-30 14:55:16.078 Thread 'MainThread': missing ScriptRunContext! This warning can be ignored when running in bare mode.\n",
            "2024-10-30 14:55:16.079 Thread 'MainThread': missing ScriptRunContext! This warning can be ignored when running in bare mode.\n",
            "2024-10-30 14:55:16.080 Thread 'MainThread': missing ScriptRunContext! This warning can be ignored when running in bare mode.\n",
            "2024-10-30 14:55:16.081 Thread 'MainThread': missing ScriptRunContext! This warning can be ignored when running in bare mode.\n",
            "2024-10-30 14:55:16.083 Thread 'MainThread': missing ScriptRunContext! This warning can be ignored when running in bare mode.\n",
            "2024-10-30 14:55:16.084 Thread 'MainThread': missing ScriptRunContext! This warning can be ignored when running in bare mode.\n",
            "2024-10-30 14:55:16.085 Thread 'MainThread': missing ScriptRunContext! This warning can be ignored when running in bare mode.\n",
            "2024-10-30 14:55:16.087 Thread 'MainThread': missing ScriptRunContext! This warning can be ignored when running in bare mode.\n",
            "2024-10-30 14:55:16.088 Thread 'MainThread': missing ScriptRunContext! This warning can be ignored when running in bare mode.\n"
          ]
        }
      ]
    },
    {
      "cell_type": "markdown",
      "source": [
        "Environment Setup:\n",
        "\n",
        "dotenv is used to load environment variables, especially the OpenAI API key.\n",
        "It first attempts to retrieve the API key from environment variables using os.getenv(\"OPENAI_API_KEY\"). If it’s missing, it prompts the user to input it directly into a password-protected text field.\n",
        "Streamlit UI Setup:\n",
        "\n",
        "The app’s header is set using st.header(\"Hey, Let's Chat\"), creating a friendly interface.\n",
        "The app’s page configuration is set with st.set_page_config() to define its title.\n",
        "Chat Model Initialization:\n",
        "\n",
        "If the API key is provided, it initializes an instance of the OpenAI chat model using ChatOpenAI from the LangChain library, with a temperature of 0.5 to balance creativity and coherence in responses.\n",
        "If the API key is not provided, the app won’t initialize the chat model and will prompt the user for the key.\n",
        "Conversation History:\n",
        "\n",
        "The conversation flow is stored in st.session_state['flowmessages']. This enables the chatbot to remember the context of the conversation, which helps provide responses that account for previous exchanges.\n",
        "The initial system message sets the assistant’s tone as \"You are a comedian AI assistant.\"\n",
        "Response Generation Function:\n",
        "\n",
        "The function get_chatmodel_response(question) is defined to generate responses from the chatbot. It checks if the chat model is initialized before proceeding.\n",
        "The user’s message is appended to the flowmessages conversation flow, then passed to the ChatOpenAI model to generate a response.\n",
        "The AI response is then appended to the flowmessages history.\n",
        "User Input and Response Display:\n",
        "\n",
        "The app provides a text input box for the user’s question and a button labeled \"Ask the question.\"\n",
        "When the button is clicked, it calls get_chatmodel_response() with the user input.\n",
        "The response is then displayed in the Streamlit app using st.write().\n",
        "This app allows for interactive, conversational Q&A with the chatbot, retaining context across exchanges, and ensuring secure handling of the API key.\n"
      ],
      "metadata": {
        "id": "HD_P8-Jy7vuW"
      }
    }
  ]
}